{
 "cells": [
  {
   "cell_type": "code",
   "execution_count": null,
   "id": "65fcb2d2",
   "metadata": {},
   "outputs": [],
   "source": [
    "1. finbanocci series\n",
    "2. find a lcm of a list\n",
    "3. find a HCF of a list\n",
    "\n",
    "\n",
    "IS VERY VERY IMPORTANT\n",
    "4. a = [1,1,1,2,2,1,4,4,5,3,6,2,2,2,2,4]\n",
    "    1. max count of continuous element  \n",
    "    2. output is 4 \n",
    "    3. ONLY THE COUNT BUT NOT THE ELEMENTS"
   ]
  },
  {
   "cell_type": "markdown",
   "id": "ac3ce9c5",
   "metadata": {},
   "source": [
    "#### Answer"
   ]
  },
  {
   "cell_type": "code",
   "execution_count": null,
   "id": "8c2314cf",
   "metadata": {},
   "outputs": [],
   "source": [
    "1. Fibonacci Series"
   ]
  },
  {
   "cell_type": "code",
   "execution_count": 25,
   "id": "0124537a",
   "metadata": {},
   "outputs": [],
   "source": [
    "def fibo(n):\n",
    "    num1=1\n",
    "    num2=0\n",
    "    for i in range(n):\n",
    "        print(num1)\n",
    "        num3=num2\n",
    "        num2=num1\n",
    "        num1=num2+num3\n",
    "        i+=1"
   ]
  },
  {
   "cell_type": "code",
   "execution_count": 27,
   "id": "463e2615",
   "metadata": {},
   "outputs": [
    {
     "name": "stdout",
     "output_type": "stream",
     "text": [
      "1\n",
      "1\n",
      "2\n",
      "3\n",
      "5\n",
      "8\n"
     ]
    }
   ],
   "source": [
    "fibo(6)"
   ]
  },
  {
   "cell_type": "code",
   "execution_count": 28,
   "id": "00e472f6",
   "metadata": {},
   "outputs": [],
   "source": [
    "def fibo2(n):\n",
    "    num1=1\n",
    "    num2=0\n",
    "    i=0\n",
    "    while i<n:\n",
    "        print(num1)\n",
    "        num3=num2\n",
    "        num2=num1\n",
    "        num1=num2+num3\n",
    "        i+=1"
   ]
  },
  {
   "cell_type": "code",
   "execution_count": 29,
   "id": "eb394675",
   "metadata": {},
   "outputs": [
    {
     "name": "stdout",
     "output_type": "stream",
     "text": [
      "1\n",
      "1\n",
      "2\n",
      "3\n",
      "5\n",
      "8\n"
     ]
    }
   ],
   "source": [
    "fibo2(6)"
   ]
  },
  {
   "cell_type": "code",
   "execution_count": null,
   "id": "d09b3b71",
   "metadata": {},
   "outputs": [],
   "source": []
  },
  {
   "cell_type": "code",
   "execution_count": null,
   "id": "c4ba55cd",
   "metadata": {},
   "outputs": [],
   "source": [
    "2. find a lcm of a list"
   ]
  },
  {
   "cell_type": "markdown",
   "id": "007d8149",
   "metadata": {},
   "source": [
    "#### Answer"
   ]
  },
  {
   "cell_type": "code",
   "execution_count": 5,
   "id": "cc7c039f",
   "metadata": {},
   "outputs": [],
   "source": [
    "def lcm(x, y):\n",
    "    if x > y:\n",
    "        greater = x\n",
    "    else:\n",
    "        greater = y\n",
    "\n",
    "    while(True):\n",
    "        if((greater % x == 0) and (greater % y == 0)):\n",
    "            lcm = greater\n",
    "            break\n",
    "        greater += 1\n",
    "\n",
    "    return lcm"
   ]
  },
  {
   "cell_type": "code",
   "execution_count": 6,
   "id": "34b0b741",
   "metadata": {},
   "outputs": [
    {
     "data": {
      "text/plain": [
       "165"
      ]
     },
     "execution_count": 6,
     "metadata": {},
     "output_type": "execute_result"
    }
   ],
   "source": [
    "lcm(33,55)"
   ]
  },
  {
   "cell_type": "code",
   "execution_count": null,
   "id": "de551655",
   "metadata": {},
   "outputs": [],
   "source": [
    "3. find a HCF of a list"
   ]
  },
  {
   "cell_type": "markdown",
   "id": "735af627",
   "metadata": {},
   "source": [
    "#### Answer"
   ]
  },
  {
   "cell_type": "code",
   "execution_count": 30,
   "id": "e95d37ec",
   "metadata": {},
   "outputs": [],
   "source": [
    "def hcf(x,y):\n",
    "    if x>y:\n",
    "        smaller=y\n",
    "    else:\n",
    "        smaller=x\n",
    "    for i in range(1,smaller+1):\n",
    "        if(x%i==0) and (y%i==0):\n",
    "            hcf=i\n",
    "    return hcf"
   ]
  },
  {
   "cell_type": "code",
   "execution_count": 31,
   "id": "ec650fa0",
   "metadata": {},
   "outputs": [
    {
     "data": {
      "text/plain": [
       "5"
      ]
     },
     "execution_count": 31,
     "metadata": {},
     "output_type": "execute_result"
    }
   ],
   "source": [
    "hcf(30,35)"
   ]
  },
  {
   "cell_type": "code",
   "execution_count": 7,
   "id": "2bcfc982",
   "metadata": {},
   "outputs": [],
   "source": [
    "def hcf2(x,y):\n",
    "    if x>y:\n",
    "        smaller=y\n",
    "    else:\n",
    "        smaller=x\n",
    "    s=1\n",
    "    while s<smaller:\n",
    "        if(x%s==0) and (y%s==0):\n",
    "            hcf=s\n",
    "        s=s+1\n",
    "    return hcf"
   ]
  },
  {
   "cell_type": "code",
   "execution_count": 8,
   "id": "98a664e7",
   "metadata": {},
   "outputs": [
    {
     "data": {
      "text/plain": [
       "5"
      ]
     },
     "execution_count": 8,
     "metadata": {},
     "output_type": "execute_result"
    }
   ],
   "source": [
    "hcf2(30,35)"
   ]
  },
  {
   "cell_type": "code",
   "execution_count": null,
   "id": "a87df48a",
   "metadata": {},
   "outputs": [],
   "source": []
  },
  {
   "cell_type": "code",
   "execution_count": null,
   "id": "59303652",
   "metadata": {},
   "outputs": [],
   "source": [
    "4. a = [1,1,1,2,2,1,4,4,5,3,6,2,2,2,2,4]\n",
    "    1. max count of continuous element  \n",
    "    2. output is 4 \n",
    "    3. ONLY THE COUNT BUT NOT THE ELEMENTS"
   ]
  },
  {
   "cell_type": "markdown",
   "id": "0441aeb2",
   "metadata": {},
   "source": [
    "#### Answers"
   ]
  },
  {
   "cell_type": "code",
   "execution_count": 9,
   "id": "15b0a1f5",
   "metadata": {},
   "outputs": [
    {
     "name": "stdout",
     "output_type": "stream",
     "text": [
      "4\n"
     ]
    }
   ],
   "source": [
    "a = [1,1,1,2,2,1,4,4,5,3,6,2,2,2,2,4]\n",
    "b = []\n",
    "for i in range(len(a)):\n",
    "    if i==4:\n",
    "        print(i)"
   ]
  },
  {
   "cell_type": "code",
   "execution_count": 10,
   "id": "91920cf7",
   "metadata": {},
   "outputs": [
    {
     "name": "stdout",
     "output_type": "stream",
     "text": [
      "4\n",
      "6\n",
      "3\n",
      "1\n",
      "1\n",
      "1\n"
     ]
    }
   ],
   "source": [
    "a = [1,1,1,2,2,1,4,4,5,3,6,2,2,2,2,4]\n",
    "b = []\n",
    "for i in range(len(a)):\n",
    "    if a[i] not in b:\n",
    "        b.append(a[i])\n",
    "        print(a.count(a[i]))"
   ]
  },
  {
   "cell_type": "code",
   "execution_count": null,
   "id": "821e8823",
   "metadata": {},
   "outputs": [],
   "source": []
  },
  {
   "cell_type": "code",
   "execution_count": null,
   "id": "4f9acd40",
   "metadata": {},
   "outputs": [],
   "source": []
  }
 ],
 "metadata": {
  "kernelspec": {
   "display_name": "Python 3 (ipykernel)",
   "language": "python",
   "name": "python3"
  },
  "language_info": {
   "codemirror_mode": {
    "name": "ipython",
    "version": 3
   },
   "file_extension": ".py",
   "mimetype": "text/x-python",
   "name": "python",
   "nbconvert_exporter": "python",
   "pygments_lexer": "ipython3",
   "version": "3.9.7"
  }
 },
 "nbformat": 4,
 "nbformat_minor": 5
}
